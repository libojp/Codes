{
 "cells": [
  {
   "cell_type": "code",
   "execution_count": 1,
   "id": "established-thursday",
   "metadata": {},
   "outputs": [],
   "source": [
    "import snap7"
   ]
  },
  {
   "cell_type": "code",
   "execution_count": 4,
   "id": "directed-corruption",
   "metadata": {},
   "outputs": [
    {
     "name": "stdout",
     "output_type": "stream",
     "text": [
      "连接状态： True\n"
     ]
    }
   ],
   "source": [
    "plcObj = snap7.client.Client(lib_location=\"./snap7.dll\")\n",
    "\n",
    "plcObj.connect(\"192.168.10.20\", 0, 1)\n",
    "\n",
    "print(f\"连接状态： {plcObj.get_connected()}\")\n",
    "plcObj.disconnect()"
   ]
  },
  {
   "cell_type": "code",
   "execution_count": null,
   "id": "tracked-heritage",
   "metadata": {},
   "outputs": [],
   "source": []
  },
  {
   "cell_type": "code",
   "execution_count": 58,
   "id": "precious-breeding",
   "metadata": {},
   "outputs": [
    {
     "name": "stdout",
     "output_type": "stream",
     "text": [
      "bytearray(b'\\x04')\n"
     ]
    }
   ],
   "source": [
    "import snap7\n",
    "client = snap7.client.Client(lib_location=\"./snap7.dll\")\n",
    "client.connect(\"192.168.10.20\", 0, 1)\n",
    "buffer = client.read_area(snap7.types.Areas.MK, 1, 1, 1)  # Reads the DB number 1 from the byte 10 to the byte 14.\n",
    "print(buffer)\n",
    "\n",
    "plcObj.disconnect()"
   ]
  },
  {
   "cell_type": "code",
   "execution_count": null,
   "id": "entitled-cutting",
   "metadata": {},
   "outputs": [],
   "source": []
  },
  {
   "cell_type": "code",
   "execution_count": 80,
   "id": "metric-laser",
   "metadata": {},
   "outputs": [
    {
     "name": "stdout",
     "output_type": "stream",
     "text": [
      "bytearray(b'\\x00\\x00\\x124')\n"
     ]
    }
   ],
   "source": [
    "import snap7\n",
    "client = snap7.client.Client(lib_location=\"./snap7.dll\")\n",
    "client.connect(\"192.168.10.20\", 0, 1)\n",
    "buffer = client.read_area(snap7.types.Areas.DB, 7, 1534, 4)  # Reads the DB number 1 from the byte 10 to the byte 14.\n",
    "print(buffer)\n",
    "\n",
    "plcObj.disconnect()"
   ]
  },
  {
   "cell_type": "code",
   "execution_count": 89,
   "id": "80529d87",
   "metadata": {},
   "outputs": [
    {
     "name": "stdout",
     "output_type": "stream",
     "text": [
      "bytearray(b'\\xfe\\t23423WEWEFEWGERGE\\x00\\x00\\x00\\x00\\x00\\x00\\x00\\x00\\x00\\x00\\x00')\n"
     ]
    }
   ],
   "source": [
    "import snap7\n",
    "client = snap7.client.Client(lib_location=\"./snap7.dll\")\n",
    "client.connect(\"192.168.10.20\", 0, 1)\n",
    "buffer = client.read_area(snap7.types.Areas.DB, 2, 1800, 30)  # Reads the DB number 1 from the byte 10 to the byte 14.\n",
    "print(buffer)\n",
    "\n",
    "plcObj.disconnect()"
   ]
  },
  {
   "cell_type": "code",
   "execution_count": 66,
   "id": "1bb54086",
   "metadata": {
    "scrolled": true
   },
   "outputs": [
    {
     "name": "stdout",
     "output_type": "stream",
     "text": [
      "bytearray(b'\\x05') (b'\\x05',) (b'\\x05',)\n",
      "5 4\n",
      "b'\\r\\x00\\x00\\x00' b'\\r' bytearray(b'\\x00\\x00\\x00\\x00\\x00\\x00\\x00\\x00\\x00\\x00\\x00\\x00\\x00') b'\\x00\\x00\\x00\\x00\\x00\\x00\\x00\\x00\\x00\\x00\\x00\\x00\\x00'\n"
     ]
    }
   ],
   "source": [
    "import snap7\n",
    "import struct\n",
    "client = snap7.client.Client(lib_location=\"./snap7.dll\")\n",
    "client.connect(\"192.168.10.20\", 0, 1)\n",
    "buffer = client.read_area(snap7.types.Areas.DB, 2, 1798, 1)  # Reads the DB number 1 from the byte 10 to the byte 14.\n",
    "print(buffer, struct.unpack('<c', buffer), struct.unpack('>c', buffer))\n",
    "d = buffer[0]\n",
    "print(d, d&0x4)\n",
    "\n",
    "f = struct.pack('i', (buffer[0] | 0x08))\n",
    "print(f,f[0:1],bytearray(f[0]), bytes(f[0]))\n",
    "client.write_area(snap7.types.Areas.DB, 2, 1798, f[0:1])\n",
    "client.disconnect()"
   ]
  },
  {
   "cell_type": "code",
   "execution_count": null,
   "id": "5ccfb625",
   "metadata": {},
   "outputs": [],
   "source": []
  },
  {
   "cell_type": "code",
   "execution_count": 69,
   "id": "8bfcf8ab",
   "metadata": {},
   "outputs": [
    {
     "name": "stdout",
     "output_type": "stream",
     "text": [
      "bytearray(b'\\xfe\\x0babcdefghijk\\x00\\x00\\x00\\x00\\x00\\x00\\x00\\x00\\x00\\x00\\x00\\x00\\x00\\x00\\x00\\x00\\x00') (b'\\xfe\\x0babcdefghijk\\x00\\x00\\x00\\x00\\x00\\x00\\x00\\x00\\x00\\x00\\x00\\x00\\x00\\x00\\x00\\x00\\x00',) (b'abcdefghijk\\x00\\x00\\x00\\x00\\x00\\x00\\x00\\x00\\x00',)\n",
      "bytearray(b'\\xfe\\x0babcdefghijk\\x00\\x00\\x00\\x00\\x00\\x00\\x00\\x00\\x00\\x00\\x00\\x00\\x00\\x00\\x00\\x00')\n",
      "abcdefghijk\u0000\u0000\u0000\u0000\u0000\u0000\u0000\u0000\u0000 20\n"
     ]
    }
   ],
   "source": [
    "import snap7\n",
    "import struct\n",
    "client = snap7.client.Client(lib_location=\"./snap7.dll\")\n",
    "client.connect(\"192.168.10.20\", 0, 1)\n",
    "buffer = client.read_area(snap7.types.Areas.DB, 2, 1800, 30)  # Reads the DB number 1 from the byte 10 to the byte 14.\n",
    "print(buffer, struct.unpack('>30s', buffer), struct.unpack_from('<20s', buffer, 2))\n",
    "d = buffer[:-1]\n",
    "print(d)\n",
    "s = struct.unpack_from('<20s', buffer, 2)\n",
    "print(bytes.decode(s[0]), len(bytes.decode(s[0])))\n",
    "client.disconnect()"
   ]
  },
  {
   "cell_type": "code",
   "execution_count": 42,
   "id": "6400ffde",
   "metadata": {},
   "outputs": [
    {
     "name": "stdout",
     "output_type": "stream",
     "text": [
      "bytearray(b'B\\xf6\\xcc\\xcdE\\xb1\\xbf\\x1f') (123.4000015258789, 5687.89013671875) (-429836352.0, 8.118491430167841e-20)\n",
      "bytearray(b'B\\xf6\\xcc\\xcd')\n",
      "(123.4000015258789,)\n"
     ]
    }
   ],
   "source": [
    "import snap7\n",
    "import struct\n",
    "client = snap7.client.Client(lib_location=\"./snap7.dll\")\n",
    "client.connect(\"192.168.10.20\", 0, 1)\n",
    "buffer = client.read_area(snap7.types.Areas.DB, 2, 384, 8)  # Reads the DB number 1 from the byte 10 to the byte 14.\n",
    "print(buffer, struct.unpack('>2f', buffer), struct.unpack_from('<2f', buffer))\n",
    "d = buffer[:4]\n",
    "print(d)\n",
    "s = struct.unpack_from('>f', buffer)\n",
    "print((s))\n",
    "client.disconnect()"
   ]
  },
  {
   "cell_type": "code",
   "execution_count": 44,
   "id": "e89d2110",
   "metadata": {},
   "outputs": [
    {
     "name": "stdout",
     "output_type": "stream",
     "text": [
      "bytearray(b'\\x124\\x00P') (305397840,)\n"
     ]
    }
   ],
   "source": [
    "import snap7\n",
    "import struct\n",
    "client = snap7.client.Client(lib_location=\"./snap7.dll\")\n",
    "client.connect(\"192.168.10.20\", 0, 1)\n",
    "buffer = client.read_area(snap7.types.Areas.DB, 7, 1534, 4)  # Reads the DB number 1 from the byte 10 to the byte 14.\n",
    "# print(buffer, struct.unpack('>2f', buffer), struct.unpack_from('<2f', buffer))\n",
    "# d = buffer[:4]\n",
    "# print(d)\n",
    "# s = struct.unpack_from('>f', buffer)\n",
    "# print((s))\n",
    "print(buffer, struct.unpack('>l', buffer))\n",
    "client.disconnect()"
   ]
  },
  {
   "cell_type": "code",
   "execution_count": null,
   "id": "b9393d6d",
   "metadata": {},
   "outputs": [],
   "source": []
  }
 ],
 "metadata": {
  "kernelspec": {
   "display_name": "Python 3 (ipykernel)",
   "language": "python",
   "name": "python3"
  },
  "language_info": {
   "codemirror_mode": {
    "name": "ipython",
    "version": 3
   },
   "file_extension": ".py",
   "mimetype": "text/x-python",
   "name": "python",
   "nbconvert_exporter": "python",
   "pygments_lexer": "ipython3",
   "version": "3.7.4"
  }
 },
 "nbformat": 4,
 "nbformat_minor": 5
}
